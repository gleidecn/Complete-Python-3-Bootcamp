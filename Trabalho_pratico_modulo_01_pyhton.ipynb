{
  "nbformat": 4,
  "nbformat_minor": 0,
  "metadata": {
    "colab": {
      "name": "Trabalho_pratico_modulo_01_pyhton.ipynb",
      "provenance": [],
      "collapsed_sections": [],
      "authorship_tag": "ABX9TyMJx0tFuo33QI1bpJXQKEyi",
      "include_colab_link": true
    },
    "kernelspec": {
      "name": "python3",
      "display_name": "Python 3"
    }
  },
  "cells": [
    {
      "cell_type": "markdown",
      "metadata": {
        "id": "view-in-github",
        "colab_type": "text"
      },
      "source": [
        "<a href=\"https://colab.research.google.com/github/gleidecn/Complete-Python-3-Bootcamp/blob/master/Trabalho_pratico_modulo_01_pyhton.ipynb\" target=\"_parent\"><img src=\"https://colab.research.google.com/assets/colab-badge.svg\" alt=\"Open In Colab\"/></a>"
      ]
    },
    {
      "cell_type": "code",
      "metadata": {
        "id": "gRJinAHhoMTF",
        "colab": {
          "base_uri": "https://localhost:8080/"
        },
        "outputId": "13308fdb-f090-4778-e4c0-76cf0433112b"
      },
      "source": [
        "idade = int(input('Entre com a sua idade'))\n",
        "nova_idade = idade + 1\n",
        "print('No proximo ano você terá: {} anos'.format(nova_idade))"
      ],
      "execution_count": null,
      "outputs": [
        {
          "output_type": "stream",
          "text": [
            "Entre com a sua idade37\n",
            "No proximo ano você terá: 38 anos\n"
          ],
          "name": "stdout"
        }
      ]
    },
    {
      "cell_type": "code",
      "metadata": {
        "colab": {
          "base_uri": "https://localhost:8080/"
        },
        "id": "PYGjjE45Tn8R",
        "outputId": "7e54c0fc-b350-4aec-dc32-5cce59b76787"
      },
      "source": [
        "lado_a = 35\n",
        "lado_b = 14.333333\n",
        "area_do_retangulo =(lado_a) *( lado_b)\n",
        "print('O retângulo de lado A = %d e lado B = %2.f é %.3f '%(lado_a, lado_b, area_do_retangulo))"
      ],
      "execution_count": null,
      "outputs": [
        {
          "output_type": "stream",
          "text": [
            "O retângulo de lado A = 35 e lado B = 14 é 501.667 \n"
          ],
          "name": "stdout"
        }
      ]
    },
    {
      "cell_type": "code",
      "metadata": {
        "colab": {
          "base_uri": "https://localhost:8080/"
        },
        "id": "JNnm4KdrU0y5",
        "outputId": "9ccfbaba-fe35-4409-d56b-8494fc8cf8a7"
      },
      "source": [
        "lista_1 = [1,2,'IGTI']\n",
        "lista_2= [2,3,'Bootcamp']\n",
        "lista_3 = lista_1 + lista_2\n",
        "print(lista_3)"
      ],
      "execution_count": null,
      "outputs": [
        {
          "output_type": "stream",
          "text": [
            "[1, 2, 'IGTI', 2, 3, 'Bootcamp']\n"
          ],
          "name": "stdout"
        }
      ]
    },
    {
      "cell_type": "code",
      "metadata": {
        "colab": {
          "base_uri": "https://localhost:8080/"
        },
        "id": "XYFVfkf7VRbb",
        "outputId": "f7a45d69-9979-461e-dfcb-5fdb826f1c96"
      },
      "source": [
        "chute=int(input('Entre com um valor inteirode 0 a 30:' ))\n",
        "adivinhacao= [5,6,10,14,20,30]\n",
        "if chute in adivinhacao:\n",
        "  print('Você acertou um dos números que eu estava pensando.')\n",
        "\n",
        "  if chute > 15:\n",
        "    print('Esse numero é maior do que 20.')\n",
        "\n",
        "  if chute < 20:\n",
        "    print('Esse numero é menor do que 20.')\n",
        "\n",
        "  print('Você é fera')\n",
        "else:\n",
        "    print('Que pena você errou. Pode tentar outra vez.')\n",
        "print('Obrigado por paricipar')"
      ],
      "execution_count": null,
      "outputs": [
        {
          "output_type": "stream",
          "text": [
            "Entre com um valor inteirode 0 a 30:20\n",
            "Você acertou um dos números que eu estava pensando.\n",
            "Esse numero é maior do que 20.\n",
            "Você é fera\n",
            "Obrigado por paricipar\n"
          ],
          "name": "stdout"
        }
      ]
    },
    {
      "cell_type": "code",
      "metadata": {
        "colab": {
          "base_uri": "https://localhost:8080/"
        },
        "id": "VIs5r3Z_YPl-",
        "outputId": "1432e528-8d2a-4b61-9a4e-74526ff56286"
      },
      "source": [
        "frutas = ['maçã', 'banana', 'uva', 'goiaba']\n",
        "for x in frutas:\n",
        "    if x == 'uva':\n",
        "      break\n",
        "    print(x)"
      ],
      "execution_count": null,
      "outputs": [
        {
          "output_type": "stream",
          "text": [
            "maçã\n",
            "banana\n"
          ],
          "name": "stdout"
        }
      ]
    },
    {
      "cell_type": "code",
      "metadata": {
        "colab": {
          "base_uri": "https://localhost:8080/"
        },
        "id": "z0QSjvtlbZFD",
        "outputId": "aa4a9958-5d73-45ed-d5e8-d9def6a96c87"
      },
      "source": [
        "n = 5\n",
        "while n >= 0:\n",
        "  n -= 1\n",
        "  print(n)"
      ],
      "execution_count": 49,
      "outputs": [
        {
          "output_type": "stream",
          "text": [
            "4\n",
            "3\n",
            "2\n",
            "1\n",
            "0\n",
            "-1\n"
          ],
          "name": "stdout"
        }
      ]
    }
  ]
}